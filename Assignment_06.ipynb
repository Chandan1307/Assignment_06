{
 "cells": [
  {
   "cell_type": "markdown",
   "id": "9d3d546c-b113-4b3d-aa5c-6f88694e781c",
   "metadata": {},
   "source": [
    "Q1. Explain Class and Object with respect to Object-Oriented Programming. Give a suitable example."
   ]
  },
  {
   "cell_type": "markdown",
   "id": "0df1a3be-59bd-4d8d-8f32-dcc2e6ab1437",
   "metadata": {},
   "source": [
    "'''\n",
    "A Class is a blueprint or a template for creating objects. It defines the properties and behaviors that an object of that class should have. A class acts as a blueprint for creating instances, which are referred to as objects. The objects created from a class have the same attributes and behaviors as defined in the class.\n",
    "'''"
   ]
  },
  {
   "cell_type": "markdown",
   "id": "416f0650-9dce-45e9-a1ad-c07f2dc4a8b4",
   "metadata": {},
   "source": [
    "'''\n",
    "An Object is an instance of a class. Objects are created from classes and are used to represent real-world objects or entities. An object has properties, which are data members, and behaviors, which are member functions. Properties and behaviors are defined in the class from which the object is created.\n",
    "'''"
   ]
  },
  {
   "cell_type": "code",
   "execution_count": 5,
   "id": "60e8915e-1666-4443-8397-b0c252e622c9",
   "metadata": {},
   "outputs": [],
   "source": [
    "class pwskills:\n",
    "    def __init__(self, phone_number, email_id, student_id):\n",
    "        self.phone_number = phone_number\n",
    "        self.email_id = email_id\n",
    "        self.student_id = student_id\n",
    "        \n",
    "    def return_student_details(self):\n",
    "        return self.student_id, self.phone_number, self.email_id"
   ]
  },
  {
   "cell_type": "code",
   "execution_count": 6,
   "id": "0ab2762e-975d-44f8-bb58-573e07e1d03f",
   "metadata": {},
   "outputs": [],
   "source": [
    "rohan = pwskills(70531456, 'chan@gmail.com', 424)"
   ]
  },
  {
   "cell_type": "code",
   "execution_count": 7,
   "id": "ea7fb73a-5b0e-49fb-b59e-8c1d8b702113",
   "metadata": {},
   "outputs": [
    {
     "data": {
      "text/plain": [
       "70531456"
      ]
     },
     "execution_count": 7,
     "metadata": {},
     "output_type": "execute_result"
    }
   ],
   "source": [
    "rohan.phone_number"
   ]
  },
  {
   "cell_type": "code",
   "execution_count": 8,
   "id": "090cf8d8-91cd-4545-a923-8c72ff0655ad",
   "metadata": {},
   "outputs": [
    {
     "data": {
      "text/plain": [
       "'chan@gmail.com'"
      ]
     },
     "execution_count": 8,
     "metadata": {},
     "output_type": "execute_result"
    }
   ],
   "source": [
    "rohan.email_id"
   ]
  },
  {
   "cell_type": "markdown",
   "id": "1a53176c-f581-4b0c-877c-91e81fa86aed",
   "metadata": {},
   "source": [
    "Q2. Name the four pillars of OOPs."
   ]
  },
  {
   "cell_type": "markdown",
   "id": "0f6cacdf-0897-4d30-9d22-4cf6798465a7",
   "metadata": {},
   "source": [
    "1) Encapsulation: Encapsulation refers to the concept of wrapping data and functions within a single unit, called an object. This allows the object to hide its internal details from the outside world and provides a controlled way of accessing its data and behavior.\n",
    "\n",
    "2) Abstraction: Abstraction is the process of hiding the implementation details and exposing only the necessary information to the users. This helps in reducing the complexity of the system and provides a simplified interface to interact with the objects.\n",
    "\n",
    "3) Inheritance: Inheritance is a mechanism that allows a new class to inherit the properties and behavior of an existing class. This helps in creating a new class that is a specialized version of an existing class and reduces the code redundancy.\n",
    "\n",
    "4) Polymorphism: Polymorphism allows objects of different classes to be treated as objects of the same class. This is achieved by defining methods with the same name in multiple classes and having the ability to perform different operations based on the context in which the method is used.\n",
    "\n"
   ]
  },
  {
   "cell_type": "markdown",
   "id": "8d24fffe-4ee8-43c7-8690-2ac823f00981",
   "metadata": {},
   "source": [
    "Q3. Explain why the __init__() function is used. Give a suitable example."
   ]
  },
  {
   "cell_type": "markdown",
   "id": "319d5cf7-3a69-4433-8f66-302c7e098354",
   "metadata": {},
   "source": [
    "The __init__ method, also known as the constructor, is a special method in Python classes that is automatically called when an object of the class is created. It is used to initialize the attributes of the class with default or user-defined values.\n",
    "\n",
    "The __init__ method takes the self parameter, which refers to the newly created object, and any additional arguments that are passed to the class constructor. The arguments passed to the constructor can be used to set the initial values of the object's attributes.\n"
   ]
  },
  {
   "cell_type": "code",
   "execution_count": null,
   "id": "31ffc8a3-7992-46c1-ad5f-0bd9e7b15baa",
   "metadata": {},
   "outputs": [],
   "source": [
    "class pwskills1:\n",
    "    \n",
    "    def __init__(self, phone_number, email_id, student_id):\n",
    "        self.phone_number = phone_number\n",
    "        self.email_id = email_id\n",
    "        self.student_id = student_id\n",
    "        \n",
    "    def return_student_details(self):\n",
    "        return self.student_id, self.phone_number, self.email_id\n",
    "        "
   ]
  },
  {
   "cell_type": "markdown",
   "id": "69784bf9-e30c-4ef2-82c5-eb2fcad64067",
   "metadata": {},
   "source": [
    "Q4. Why self is used in OOPs?"
   ]
  },
  {
   "cell_type": "markdown",
   "id": "46e08a90-c0b1-4dab-a15c-3aa06bc4f292",
   "metadata": {},
   "source": [
    "In Object-Oriented Programming (OOP), self is a reference to the instance of the object that is calling the method. It is the first argument passed to every method in a class and is used to access the attributes and behavior of the object.\n",
    "\n",
    "The use of self helps to distinguish between class-level attributes and instance-level attributes. Class-level attributes are shared by all instances of a class and have the same value for all objects of that class. On the other hand, instance-level attributes are specific to each object and can have different values for each instance of a class.\n"
   ]
  },
  {
   "cell_type": "code",
   "execution_count": null,
   "id": "0c8c8448-9e4e-4808-b37a-52688991be8d",
   "metadata": {},
   "outputs": [],
   "source": []
  },
  {
   "cell_type": "markdown",
   "id": "460f0f3a-4957-4334-a8aa-974d7e2019ec",
   "metadata": {},
   "source": [
    "Q5. What is inheritance? Give an example for each type of inheritance."
   ]
  },
  {
   "cell_type": "markdown",
   "id": "d822f60a-e7e6-4713-9dff-2a2ce7b97c99",
   "metadata": {},
   "source": [
    "Inheritance is a fundamental concept in Object-Oriented Programming (OOP) that allows you to create a new class (the derived class or subclass) based on an existing class (the base class or superclass). The derived class inherits the attributes and behavior of the base class and can add or override them as needed.\n",
    "\n"
   ]
  },
  {
   "cell_type": "code",
   "execution_count": 11,
   "id": "ee153125-66a6-4909-b886-91c99bad25fc",
   "metadata": {},
   "outputs": [],
   "source": [
    "class chandan:\n",
    "    \n",
    "    def test_chandan(self):\n",
    "        return \"First name is chandan\""
   ]
  },
  {
   "cell_type": "code",
   "execution_count": 12,
   "id": "27c127b6-7b61-45c1-8a1d-480038a8a9b3",
   "metadata": {},
   "outputs": [],
   "source": [
    "class kumar:\n",
    "    \n",
    "    def test_kumar(self):\n",
    "        return \"Last name is Kumar\""
   ]
  },
  {
   "cell_type": "code",
   "execution_count": 13,
   "id": "f691a846-d7cf-4caf-a4a1-41def479f33c",
   "metadata": {},
   "outputs": [],
   "source": [
    "class class3(chandan, kumar):\n",
    "    pass"
   ]
  },
  {
   "cell_type": "code",
   "execution_count": 15,
   "id": "f5a8cdc1-29d7-4873-8a1d-b730322f743d",
   "metadata": {},
   "outputs": [],
   "source": [
    "obj_class3 = class3()"
   ]
  },
  {
   "cell_type": "code",
   "execution_count": 17,
   "id": "6174d506-bea9-4c48-8ab5-97157299b62a",
   "metadata": {},
   "outputs": [
    {
     "data": {
      "text/plain": [
       "'First name is chandan'"
      ]
     },
     "execution_count": 17,
     "metadata": {},
     "output_type": "execute_result"
    }
   ],
   "source": [
    "obj_class3.test_chandan()"
   ]
  },
  {
   "cell_type": "code",
   "execution_count": 18,
   "id": "da3fe6f1-ce39-4845-b070-ef2a8fef3eda",
   "metadata": {},
   "outputs": [
    {
     "data": {
      "text/plain": [
       "'Last name is Kumar'"
      ]
     },
     "execution_count": 18,
     "metadata": {},
     "output_type": "execute_result"
    }
   ],
   "source": [
    "obj_class3.test_kumar()"
   ]
  },
  {
   "cell_type": "code",
   "execution_count": null,
   "id": "faae2f68-9eec-46f9-a399-218fa9c4cd97",
   "metadata": {},
   "outputs": [],
   "source": []
  }
 ],
 "metadata": {
  "kernelspec": {
   "display_name": "Python 3 (ipykernel)",
   "language": "python",
   "name": "python3"
  },
  "language_info": {
   "codemirror_mode": {
    "name": "ipython",
    "version": 3
   },
   "file_extension": ".py",
   "mimetype": "text/x-python",
   "name": "python",
   "nbconvert_exporter": "python",
   "pygments_lexer": "ipython3",
   "version": "3.10.8"
  }
 },
 "nbformat": 4,
 "nbformat_minor": 5
}
